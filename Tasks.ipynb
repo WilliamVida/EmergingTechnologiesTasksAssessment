{
 "cells": [
  {
   "cell_type": "markdown",
   "metadata": {},
   "source": [
    "# Tasks\n",
    "These are my solutions to the \"Tasks 2020\" assessment as part of my fourth year module \"Emerging Technologies\".\n",
    "***"
   ]
  },
  {
   "cell_type": "markdown",
   "metadata": {},
   "source": [
    "#### Task 1: Write a Python function called sqrt2 that calculates and prints to the screen the square root of 2 to 100 decimal places."
   ]
  },
  {
   "cell_type": "markdown",
   "metadata": {},
   "source": [
    "The square root of 2 can be calculated by using the Babylonian method [1].\n",
    "\n",
    "\n",
    "[1] Methods of computing square roots; Babylonian method; https://en.wikipedia.org/wiki/Methods_of_computing_square_roots#Babylonian_method"
   ]
  },
  {
   "cell_type": "code",
   "execution_count": 10,
   "metadata": {},
   "outputs": [
    {
     "name": "stdout",
     "output_type": "stream",
     "text": [
      "1.4142135623730949234300169337075203657150268554687500000000000000000000000000000000000000000000000000\n"
     ]
    }
   ],
   "source": [
    "# https://www.w3resource.com/python-exercises/math/python-math-exercise-18.php\n",
    "\n",
    "def sqrt2():\n",
    "    number = 2\n",
    "    guess = number / 2.0\n",
    "    g2 = guess + 1\n",
    "\n",
    "    while(guess != g2):\n",
    "        g2 = guess\n",
    "        guess = (guess + (number / guess)) / 2\n",
    "\n",
    "    return guess\n",
    "\n",
    "print(\"{:.100f}\".format(sqrt2()))"
   ]
  }
 ],
 "metadata": {
  "kernelspec": {
   "display_name": "Python 3",
   "language": "python",
   "name": "python3"
  },
  "language_info": {
   "codemirror_mode": {
    "name": "ipython",
    "version": 3
   },
   "file_extension": ".py",
   "mimetype": "text/x-python",
   "name": "python",
   "nbconvert_exporter": "python",
   "pygments_lexer": "ipython3",
   "version": "3.8.3"
  }
 },
 "nbformat": 4,
 "nbformat_minor": 4
}
