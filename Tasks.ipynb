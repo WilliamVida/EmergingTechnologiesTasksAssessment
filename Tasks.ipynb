{
 "cells": [
  {
   "cell_type": "markdown",
   "metadata": {},
   "source": [
    "# Tasks\n",
    "These are my solutions to the \"Tasks 2020\" assessment as part of my fourth year module \"Emerging Technologies\".\n",
    "***"
   ]
  },
  {
   "cell_type": "markdown",
   "metadata": {},
   "source": [
    "#### Task 1: Write a Python function called ```sqrt2``` that calculates and prints to the screen the square root of 2 to 100 decimal places."
   ]
  },
  {
   "cell_type": "markdown",
   "metadata": {},
   "source": [
    "The square root of 2 can be calculated by using the Babylonian method [1] [2].\n",
    "\n",
    "$$ x_{0} \\approx \\sqrt{S}, $$\n",
    "$$ x_{n+1} = \\frac{1}{2} \\left (x_{n} + \\frac{S}{x_{n}} \\right), $$\n",
    "$$ \\sqrt{S} = \\lim_{n \\to \\infty} x_{n}. $$\n",
    "\n",
    "The Babylonian method works by making an initial guess of the square root called $ x_{0} $ based on the square root $ S $. Then apply the formula to get a better approximation towards the square root until the apporximation is the same as the last.\n",
    "\n",
    "#### Example: Square Root of 2\n",
    "Make an initial guess of 1.2 and apply the formula to get a better apporximation of the square root. $ S $ is 2.\n",
    "\n",
    "$ x_{0} \\approx 1.2 $\n",
    "\n",
    "$ x_{1} = \\frac{1}{2} \\left ({1.2} + \\frac{2}{{1.2}} \\right) = 1.433 $\n",
    "\n",
    "$ x_{2} = \\frac{1}{2} \\left ({1.433} + \\frac{2}{{1.433}} \\right) = 1.414 $\n",
    "\n",
    "$ x_{3} = \\frac{1}{2} \\left ({1.414} + \\frac{2}{{1.414}} \\right) = 1.414 $\n",
    "\n",
    "Hence $ \\sqrt{2} \\approx 1.414 $.\n",
    "\n",
    "[1] Methods of computing square roots; Babylonian method; https://en.wikipedia.org/wiki/Methods_of_computing_square_roots#Babylonian_method\n",
    "\n",
    "[2] Python Math: Computing square roots using the Babylonian method; Python Math: Exercise-18 with Solution; https://www.w3resource.com/python-exercises/math/python-math-exercise-18.php"
   ]
  },
  {
   "cell_type": "code",
   "execution_count": 1,
   "metadata": {},
   "outputs": [
    {
     "name": "stdout",
     "output_type": "stream",
     "text": [
      "The square root of 2 is 1.4142135623730949234300169337075203657150268554687500000000000000000000000000000000000000000000000000\n"
     ]
    }
   ],
   "source": [
    "def sqrt2(S):\n",
    "    \"\"\"\n",
    "    A function to calculate the square root of 2 using the Babylonian method.\n",
    "    \"\"\"\n",
    "    # Make a guess of the approximation of the square root.\n",
    "    guess = S / 2.0\n",
    "\n",
    "    # Add 1 to the guess.\n",
    "    x = guess + 1\n",
    "\n",
    "    # Loop until the guess and x are the same.\n",
    "    while(guess != x):\n",
    "        # x becomes the value of the guess.\n",
    "        x = guess\n",
    "\n",
    "        # Formula is applied.\n",
    "        guess = (guess + (S / guess)) / 2\n",
    "\n",
    "    return guess\n",
    "\n",
    "print(\"The square root of 2 is {:.100f}\".format(sqrt2(2)))"
   ]
  },
  {
   "cell_type": "markdown",
   "metadata": {},
   "source": [
    "#### Testing sqrt2"
   ]
  },
  {
   "cell_type": "code",
   "execution_count": 2,
   "metadata": {},
   "outputs": [
    {
     "name": "stdout",
     "output_type": "stream",
     "text": [
      "The square root of 100 is 10.0000000000000000000000000000000000000000000000000000000000000000000000000000000000000000000000000000\n"
     ]
    }
   ],
   "source": [
    "# Test the function on 100.\n",
    "print(\"The square root of 100 is {:.100f}\".format(sqrt2(100)))"
   ]
  },
  {
   "cell_type": "code",
   "execution_count": 3,
   "metadata": {},
   "outputs": [
    {
     "name": "stdout",
     "output_type": "stream",
     "text": [
      "The square root of 5 is 2.2360679774997898050514777423813939094543457031250000000000000000000000000000000000000000000000000000\n"
     ]
    }
   ],
   "source": [
    "# Test the function on 5.\n",
    "print(\"The square root of 5 is {:.100f}\".format(sqrt2(5)))"
   ]
  },
  {
   "cell_type": "code",
   "execution_count": 4,
   "metadata": {},
   "outputs": [
    {
     "name": "stdout",
     "output_type": "stream",
     "text": [
      "The square root of 3 is 1.7320508075688771931766041234368458390235900878906250000000000000000000000000000000000000000000000000\n"
     ]
    }
   ],
   "source": [
    "# Test the function on 3.\n",
    "print(\"The square root of 3 is {:.100f}\".format(sqrt2(3)))"
   ]
  },
  {
   "cell_type": "code",
   "execution_count": 5,
   "metadata": {},
   "outputs": [
    {
     "name": "stdout",
     "output_type": "stream",
     "text": [
      "The square root of 932 is 30.5286750449474979518527106847614049911499023437500000000000000000000000000000000000000000000000000000\n"
     ]
    }
   ],
   "source": [
    "# Test the function on 932.\n",
    "print(\"The square root of 932 is {:.100f}\".format(sqrt2(932)))"
   ]
  }
 ],
 "metadata": {
  "kernelspec": {
   "display_name": "Python 3",
   "language": "python",
   "name": "python3"
  },
  "language_info": {
   "codemirror_mode": {
    "name": "ipython",
    "version": 3
   },
   "file_extension": ".py",
   "mimetype": "text/x-python",
   "name": "python",
   "nbconvert_exporter": "python",
   "pygments_lexer": "ipython3",
   "version": "3.8.3"
  }
 },
 "nbformat": 4,
 "nbformat_minor": 4
}
