{
 "cells": [
  {
   "cell_type": "markdown",
   "metadata": {},
   "source": [
    "# Tasks\n",
    "These are my solutions to the \"Tasks 2020\" assessment as part of my fourth year module \"Emerging Technologies\".\n",
    "***"
   ]
  },
  {
   "cell_type": "markdown",
   "metadata": {},
   "source": [
    "### Task 1: Write a Python function called ```sqrt2``` that calculates and prints to the screen the square root of 2 to 100 decimal places."
   ]
  },
  {
   "cell_type": "markdown",
   "metadata": {},
   "source": [
    "The square root of 2 can be calculated by using the Babylonian method [1] [2].\n",
    "\n",
    "$$ x_{0} \\approx \\sqrt{S}, $$ <br>\n",
    "$$ x_{n+1} = \\frac{1}{2} \\left (x_{n} + \\frac{S}{x_{n}} \\right), $$ <br>\n",
    "$$ \\sqrt{S} = \\lim_{n \\to \\infty} x_{n}. $$\n",
    "\n",
    "The Babylonian method works by making an initial guess of the square root called $ x_{0} $ based on the square root $ S $. Then apply the formula to get a better approximation towards the square root until the approximation is the same as the previous iteration.\n",
    "\n",
    "#### Example: Square Root of 2\n",
    "Make an initial guess of 1.2 and apply the formula to get a better approximation of the square root. $ S $ is 2.\n",
    "\n",
    "$ x_{0} \\approx 1.2 $\n",
    "\n",
    "$ x_{1} = \\frac{1}{2} \\left ({1.2} + \\frac{2}{{1.2}} \\right) = 1.433 $\n",
    "\n",
    "$ x_{2} = \\frac{1}{2} \\left ({1.433} + \\frac{2}{{1.433}} \\right) = 1.414 $\n",
    "\n",
    "$ x_{3} = \\frac{1}{2} \\left ({1.414} + \\frac{2}{{1.414}} \\right) = 1.414 $\n",
    "\n",
    "Hence $ \\sqrt{2} \\approx 1.414 $.\n",
    "\n",
    "[1] Methods of computing square roots; Babylonian method; https://en.wikipedia.org/wiki/Methods_of_computing_square_roots#Babylonian_method\n",
    "\n",
    "[2] Python Math: Computing square roots using the Babylonian method; Python Math: Exercise-18 with Solution; https://www.w3resource.com/python-exercises/math/python-math-exercise-18.php\n",
    "\n",
    "https://stackoverflow.com/a/64278569"
   ]
  },
  {
   "cell_type": "code",
   "execution_count": 11,
   "metadata": {},
   "outputs": [
    {
     "name": "stdout",
     "output_type": "stream",
     "text": [
      "The square root of 2 to 100 decimal places is 1.4142135623730948729028552009655273607485832256919402696392729172311702355446324552662687021007677738\n"
     ]
    }
   ],
   "source": [
    "def sqrt2(S):\n",
    "    \"\"\"\n",
    "    A function to calculate the square root of 2 using the Babylonian method.\n",
    "    \"\"\"\n",
    "\n",
    "    # Guess of the approximation of the square root.\n",
    "    guess = S / 2.0\n",
    "\n",
    "    # Add 1 to the guess.\n",
    "    x = guess + 1\n",
    "\n",
    "    # Loop until the guess and x are the same.\n",
    "    while(guess != x):\n",
    "        # x becomes the value of the guess.\n",
    "        x = guess\n",
    "\n",
    "        # Formula is applied.\n",
    "        guess = (guess + (S / guess)) / 2    \n",
    "\n",
    "    # The task is to print out the number 2 to 100 decimal places and not every number. As such the below only works for 2.\n",
    "    if (S == 2):\n",
    "        # Increase the value of guess.\n",
    "        guess = guess * (10 ** 200)\n",
    "\n",
    "        # Get the guess without scientific notation.\n",
    "        answer = '{0:.0f}'.format(guess)\n",
    "\n",
    "        # Convert the float to a string and then a list.\n",
    "        answer = str(answer)\n",
    "        answer = list(answer)\n",
    "\n",
    "        # Then insert a decimal point.\n",
    "        answer.insert(1, '.')\n",
    "\n",
    "        # Combine all the digits.\n",
    "        answer = \"\".join(answer)\n",
    "\n",
    "        # Set answer to 100 decimal places.\n",
    "        answer = answer[0:102]\n",
    "\n",
    "        return answer\n",
    "\n",
    "    # For any number other than 2.\n",
    "    else:\n",
    "        return guess\n",
    "\n",
    "print(\"The square root of 2 to 100 decimal places is \" + sqrt2(2))"
   ]
  },
  {
   "cell_type": "code",
   "execution_count": 2,
   "metadata": {},
   "outputs": [
    {
     "name": "stdout",
     "output_type": "stream",
     "text": [
      "The square root of 100 is 10.0000000000000000000000000000000000000000000000000000000000000000000000000000000000000000000000000000\n"
     ]
    }
   ],
   "source": [
    "# Test the function on 100.\n",
    "print(\"The square root of 100 is {:.100f}\".format(sqrt2(100)))"
   ]
  },
  {
   "cell_type": "code",
   "execution_count": 7,
   "metadata": {},
   "outputs": [
    {
     "name": "stdout",
     "output_type": "stream",
     "text": [
      "The square root of 5 is 2.2360679774997898050514777423813939094543457031250000000000000000000000000000000000000000000000000000\n"
     ]
    }
   ],
   "source": [
    "# Test the function on 5.\n",
    "print(\"The square root of 5 is {:.100f}\".format(sqrt2(5)))"
   ]
  },
  {
   "cell_type": "code",
   "execution_count": 8,
   "metadata": {},
   "outputs": [
    {
     "name": "stdout",
     "output_type": "stream",
     "text": [
      "The square root of 3 is 1.7320508075688771931766041234368458390235900878906250000000000000000000000000000000000000000000000000\n"
     ]
    }
   ],
   "source": [
    "# Test the function on 3.\n",
    "print(\"The square root of 3 is {:.100f}\".format(sqrt2(3)))"
   ]
  },
  {
   "cell_type": "code",
   "execution_count": 5,
   "metadata": {},
   "outputs": [
    {
     "name": "stdout",
     "output_type": "stream",
     "text": [
      "The square root of 932 is 30.5286750449474979518527106847614049911499023437500000000000000000000000000000000000000000000000000000\n"
     ]
    }
   ],
   "source": [
    "# Test the function on 932.\n",
    "print(\"The square root of 932 is {:.100f}\".format(sqrt2(932)))"
   ]
  }
 ],
 "metadata": {
  "kernelspec": {
   "display_name": "Python 3",
   "language": "python",
   "name": "python3"
  },
  "language_info": {
   "codemirror_mode": {
    "name": "ipython",
    "version": 3
   },
   "file_extension": ".py",
   "mimetype": "text/x-python",
   "name": "python",
   "nbconvert_exporter": "python",
   "pygments_lexer": "ipython3",
   "version": "3.8.3"
  }
 },
 "nbformat": 4,
 "nbformat_minor": 4
}
