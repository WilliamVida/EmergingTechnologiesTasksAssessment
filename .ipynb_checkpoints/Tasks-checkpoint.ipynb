{
 "cells": [
  {
   "cell_type": "markdown",
   "metadata": {},
   "source": [
    "# Tasks\n",
    "These are my solutions to the \"Tasks 2020\" assessment as part of my fourth year module \"Emerging Technologies\".\n",
    "***"
   ]
  },
  {
   "cell_type": "markdown",
   "metadata": {},
   "source": [
    "### Task 1: Write a Python function called ```sqrt2``` that calculates and prints to the screen the square root of 2 to 100 decimal places. Your code should not depend on any module from the standard library1 or otherwise. You should research the task first and include references and a description of your algorithm."
   ]
  },
  {
   "cell_type": "markdown",
   "metadata": {},
   "source": [
    "The square root of 2 can be calculated by using the Babylonian method [1] [2].\n",
    "\n",
    "$$ x_{0} \\approx \\sqrt{S}, $$ <br>\n",
    "$$ x_{n+1} = \\frac{1}{2} \\left (x_{n} + \\frac{S}{x_{n}} \\right), $$ <br>\n",
    "$$ \\sqrt{S} = \\lim_{n \\to \\infty} x_{n}. $$\n",
    "\n",
    "The Babylonian method works by making an initial guess of the square root called $ x_{0} $ based on the square root $ S $. Then apply the formula to get a better approximation towards the square root until the approximation is the same as the previous iteration.\n",
    "\n",
    "Due to limitations with the floats in Python, it is not possible to print out a number to 100 decimal places [3]. It is possible to overcome this limitation by multiplying the answer by 10**200 and then converting it to a string and then a list [4].\n",
    "\n",
    "#### Example: Square Root of 2\n",
    "Make an initial guess of 1.2 and apply the formula to get a better approximation of the square root. $ S $ is 2.\n",
    "\n",
    "$ x_{0} \\approx 1.2 $\n",
    "\n",
    "$ x_{1} = \\frac{1}{2} \\left ({1.2} + \\frac{2}{{1.2}} \\right) = 1.433 $\n",
    "\n",
    "$ x_{2} = \\frac{1}{2} \\left ({1.433} + \\frac{2}{{1.433}} \\right) = 1.414 $\n",
    "\n",
    "$ x_{3} = \\frac{1}{2} \\left ({1.414} + \\frac{2}{{1.414}} \\right) = 1.414 $\n",
    "\n",
    "Hence $ \\sqrt{2} \\approx 1.414 $"
   ]
  },
  {
   "cell_type": "code",
   "execution_count": 103,
   "metadata": {},
   "outputs": [
    {
     "name": "stdout",
     "output_type": "stream",
     "text": [
      "The square root of 2 is 1.4142135623730948729028552009655273607485832256919402696392729172311702355446324552662687021007677738\n"
     ]
    }
   ],
   "source": [
    "def sqrt2(S):\n",
    "    \"\"\"\n",
    "    A function to calculate the square root of 2 using the Babylonian method.\n",
    "    \"\"\"\n",
    "\n",
    "    # Guess of the approximation of the square root.\n",
    "    guess = S / 2.0\n",
    "\n",
    "    # Add 1 to the guess.\n",
    "    x = guess + 1\n",
    "\n",
    "    # Loop until the guess and x are the same.\n",
    "    while(guess != x):\n",
    "        # x becomes the value of the guess.\n",
    "        x = guess\n",
    "\n",
    "        # Formula is applied.\n",
    "        guess = (guess + (S / guess)) / 2    \n",
    "\n",
    "    # The task is to print out the number 2 to 100 decimal places and not every number. As such the below only works for 2.\n",
    "    if (S == 2):\n",
    "        # Increase the value of guess.\n",
    "        guess = guess * (10 ** 200)\n",
    "\n",
    "        # Get the guess without scientific notation.\n",
    "        answer = \"{0:.0f}\".format(guess)\n",
    "\n",
    "        # Convert the float to a string and then a list.\n",
    "        answer = str(answer)\n",
    "        answer = list(answer)\n",
    "\n",
    "        # Then insert a decimal point.\n",
    "        answer.insert(1, \".\")\n",
    "\n",
    "        # Combine all the digits.\n",
    "        answer = \"\".join(answer)\n",
    "\n",
    "        # Set answer to 100 decimal places.\n",
    "        answer = answer[0:102]\n",
    "\n",
    "        return answer\n",
    "\n",
    "    # For any number other than 2.\n",
    "    else:\n",
    "        return guess\n",
    "\n",
    "print(\"The square root of 2 is \" + sqrt2(2))"
   ]
  },
  {
   "cell_type": "code",
   "execution_count": null,
   "metadata": {},
   "outputs": [],
   "source": [
    "# Test the function on 100.\n",
    "print(\"The square root of 100 is {:.100f}\".format(sqrt2(100)))"
   ]
  },
  {
   "cell_type": "code",
   "execution_count": null,
   "metadata": {},
   "outputs": [],
   "source": [
    "# Test the function on 5.\n",
    "print(\"The square root of 5 is {:.100f}\".format(sqrt2(5)))"
   ]
  },
  {
   "cell_type": "code",
   "execution_count": null,
   "metadata": {},
   "outputs": [],
   "source": [
    "# Test the function on 3.\n",
    "print(\"The square root of 3 is {:.100f}\".format(sqrt2(3)))"
   ]
  },
  {
   "cell_type": "code",
   "execution_count": null,
   "metadata": {},
   "outputs": [],
   "source": [
    "# Test the function on 932.\n",
    "print(\"The square root of 932 is {:.100f}\".format(sqrt2(932)))"
   ]
  },
  {
   "cell_type": "markdown",
   "metadata": {},
   "source": [
    "A better way to calcaulate the square root of number to 100 decimal places is as follows:"
   ]
  },
  {
   "cell_type": "code",
   "execution_count": 4,
   "metadata": {},
   "outputs": [
    {
     "name": "stdout",
     "output_type": "stream",
     "text": [
      "1.4142135623730950488016887242096980785696718753769480731766797379907324784621070388503875343276415727\n"
     ]
    }
   ],
   "source": [
    "def sqrt2V2(S):\n",
    "    x = S * 10 ** 200\n",
    "\n",
    "    r = x\n",
    "\n",
    "    def test_diffs(x, r):\n",
    "        d0 = abs(x - r**2)\n",
    "        dm = abs(x - (r-1)**2)\n",
    "        dp = abs(x - (r+1)**2)\n",
    "        minimised = d0 <= dm and d0 <= dp\n",
    "        below_min = dp < dm\n",
    "        return minimised, below_min\n",
    "\n",
    "    while True:\n",
    "        oldr = r\n",
    "        r = (r + x // r) // 2\n",
    "\n",
    "        minimised, below_min = test_diffs(x, r)\n",
    "        if minimised:\n",
    "            break\n",
    "\n",
    "        if r == oldr:\n",
    "            if below_min:\n",
    "                r += 1\n",
    "            else:\n",
    "                r -= 1\n",
    "            minimised, _ = test_diffs(x, r)\n",
    "            if minimised:\n",
    "                break\n",
    "\n",
    "    return f\"{r // 10**100}.{r % 10**100:0100d}\"\n",
    "\n",
    "print(sqrt2V2(2))"
   ]
  },
  {
   "cell_type": "markdown",
   "metadata": {},
   "source": [
    "#### References\n",
    "[1] Methods of computing square roots; Babylonian method; https://en.wikipedia.org/wiki/Methods_of_computing_square_roots#Babylonian_method\n",
    "\n",
    "[2] Python Math: Computing square roots using the Babylonian method; Python Math: Exercise-18 with Solution; https://www.w3resource.com/python-exercises/math/python-math-exercise-18.php\n",
    "\n",
    "[3] 15. Floating Point Arithmetic: Issues and Limitations; https://docs.python.org/3/tutorial/floatingpoint.html\n",
    "\n",
    "[4] Is there a way to create more decimal points on Python without importing a library/module?; https://stackoverflow.com/a/64278569"
   ]
  },
  {
   "cell_type": "markdown",
   "metadata": {},
   "source": [
    "***\n",
    "### Task 2: The Chi-squared test for independence is a statistical hypothesis test like a t-test. It is used to analyse whether two categorical variables are independent. The Wikipedia article gives the table below as an example [4], stating the Chi-squared value based on it is approximately 24.6. Use ```scipy.stats``` to verify this value and calculate the associated p value. You should include a short note with references justifying your analysis in a markdown cell."
   ]
  },
  {
   "cell_type": "markdown",
   "metadata": {},
   "source": [
    "The second task is to verify the chi-squared value of approximately 24.6 using the data from the table below.\n",
    "\n",
    "|              \t| A   \t| B   \t| C   \t| D   \t| total \t|\n",
    "|--------------\t|-----\t|-----\t|-----\t|-----\t|-------\t|\n",
    "| White collar \t| 90  \t| 60  \t| 104 \t| 95  \t| 349   \t|\n",
    "| Blue collar  \t| 30  \t| 50  \t| 51  \t| 20  \t| 151   \t|\n",
    "| No collar    \t| 30  \t| 40  \t| 45  \t| 35  \t| 150   \t|\n",
    "| Total        \t| 150 \t| 150 \t| 200 \t| 150 \t| 650   \t|\n",
    "\n",
    "The null hypothesis is that each person's neighborhood of residence is independent of the person's occupational classification.\n",
    "\n",
    "A chi-square (χ2) statistic is a test that measures how a model compares to actual observed data. The data used in calculating a chi-square statistic must be random, raw, mutually exclusive, drawn from independent variables, and drawn from a large enough sample. For example, the results of tossing a fair coin meet these criteria [5].\n",
    "\n",
    "A p value is used in hypothesis testing to help you support or reject the null hypothesis. The p value is the evidence against a null hypothesis. The smaller the p-value, the stronger the evidence that you should reject the null hypothesis [8].\n",
    "\n",
    "The formula to calculate the expected value for a cell is: [6]\n",
    "\n",
    "$$ E_{ij} = \\frac{R_iC_j}{N} $$\n",
    "\n",
    "Where\n",
    "<br>$ R $  = row\n",
    "<br>$ C $ = column\n",
    "<br>$ N $ = total\n",
    "<br>for $i$th row and $j$th column\n",
    "\n",
    "The chi-squared formula is: [7]\n",
    "\n",
    "$$ \\chi^2 = \\sum \\limits_{i=1}^n \\frac{(O_i - E_i)^2}{E} $$\n",
    "\n",
    "Where\n",
    "<br>$ \\chi^2 $ = chi squared\n",
    "<br>$ {O}_i $ =\tobserved value\n",
    "<br>$ E_{i}\t$ =\texpected value\n",
    "\n",
    "#### Example: Calculating the Expected Value of White Collar Workers for Column A\n",
    "Calculating the expected value of white collar workers for column A would be as follows:\n",
    "\n",
    "$ E = \\frac{349 \\times 150}{650} $\n",
    "\n",
    "$ E \\approx 80.5385 $\n",
    "\n",
    "Then use the chi-square formula where the observed value $ O $ is 90 and expected value $ E $ is 80.5385:\n",
    "\n",
    "$ \\chi^2 = \\frac{(90 - 80.5385)^2}{80.5385} $\n",
    "\n",
    "$ \\chi^2 \\approx 1.1115 $\n",
    "\n",
    "Doing this for all cells and adding them together will give an approximate value of 24.6."
   ]
  },
  {
   "cell_type": "code",
   "execution_count": 112,
   "metadata": {},
   "outputs": [
    {
     "name": "stdout",
     "output_type": "stream",
     "text": [
      "chi2:  24.5712028585826\n",
      "p-value:  0.0004098425861096696\n",
      "degrees of freedom:  6\n",
      "expected frequencies:\n",
      "[[ 80.53846154  80.53846154 107.38461538  80.53846154]\n",
      " [ 34.84615385  34.84615385  46.46153846  34.84615385]\n",
      " [ 34.61538462  34.61538462  46.15384615  34.61538462]]\n"
     ]
    }
   ],
   "source": [
    "import scipy.stats as stats\n",
    "\"\"\"\n",
    "Code to get chi-squared statistics for the data in the table.\n",
    "\"\"\"\n",
    "\n",
    "# Populate the arrays.\n",
    "whiteCollar = [90, 60, 104, 95]\n",
    "blueCollar = [30, 50, 51, 20]\n",
    "noCollar = [30, 40, 45, 35]\n",
    "\n",
    "data = [whiteCollar, blueCollar, noCollar]\n",
    "\n",
    "chi2, p, dof, ex = stats.chi2_contingency(data)\n",
    "\n",
    "# Print out the values.\n",
    "print(\"chi2: \", chi2)\n",
    "print(\"p-value: \", p)\n",
    "print(\"degrees of freedom: \", dof)\n",
    "print(\"expected frequencies:\")\n",
    "print(ex)"
   ]
  },
  {
   "cell_type": "markdown",
   "metadata": {},
   "source": [
    "The p-value of the data is 0.0004098425861096696. As this p-value is less than 0.05, it is statistically significant against the \n",
    "null thypothesis. Therefore, we must reject the null thypothesis [9]."
   ]
  },
  {
   "cell_type": "markdown",
   "metadata": {},
   "source": [
    "#### References\n",
    "[5] Chi-Square (χ2) Statistic Definition; What Is a Chi-Square Statistic?; https://www.investopedia.com/terms/c/chi-square-statistic.asp\n",
    "\n",
    "[6] The chi-square test; Getting expected values; https://web.stanford.edu/class/psych252/cheatsheets/chisquare.html;\n",
    "\n",
    "[7] https://www.gstatic.com/education/formulas/images_long_sheet/en/chi_squared_test.svg;\n",
    "\n",
    "[8] P Value Definition; https://www.statisticshowto.com/p-value/;\n",
    "\n",
    "[9] What a p-value tells you about statistical significance; https://www.simplypsychology.org/p-value.html"
   ]
  },
  {
   "cell_type": "markdown",
   "metadata": {},
   "source": [
    "### Task 3: The standard deviation of an array of numbers ```x``` is calculated using ```numpy``` as ```np.sqrt(np.sum((x - np.mean(x))**2)/len(x)) ```. However, Microsoft Excel has two different versions of the standard deviation calculation, ```STDDEV.P``` and ```STDDEV.S ```. The ```STDDEV.P``` function performs the above calculation but in the ```STDDEV.S``` calculation the division is by ```len(x)-1``` rather than ```len(x) ```. Research these Excel functions, writing a note in a Markdown cell about the difference between them. Then use ```numpy``` to perform a simulation demonstrating that the ```STDDEV.S``` calculation is a better estimate for the standard deviation of a population when performed on a sample. Note that part of this task is to figure out the terminology in the previous sentence"
   ]
  },
  {
   "cell_type": "code",
   "execution_count": null,
   "metadata": {},
   "outputs": [],
   "source": []
  },
  {
   "cell_type": "code",
   "execution_count": null,
   "metadata": {},
   "outputs": [],
   "source": []
  },
  {
   "cell_type": "code",
   "execution_count": null,
   "metadata": {},
   "outputs": [],
   "source": []
  }
 ],
 "metadata": {
  "kernelspec": {
   "display_name": "Python 3",
   "language": "python",
   "name": "python3"
  },
  "language_info": {
   "codemirror_mode": {
    "name": "ipython",
    "version": 3
   },
   "file_extension": ".py",
   "mimetype": "text/x-python",
   "name": "python",
   "nbconvert_exporter": "python",
   "pygments_lexer": "ipython3",
   "version": "3.8.3"
  }
 },
 "nbformat": 4,
 "nbformat_minor": 4
}
